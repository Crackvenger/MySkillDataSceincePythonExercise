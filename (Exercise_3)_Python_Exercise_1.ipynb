{
  "nbformat": 4,
  "nbformat_minor": 0,
  "metadata": {
    "colab": {
      "name": " (Exercise 3) Python Exercise 1.ipynb",
      "provenance": [],
      "include_colab_link": true
    },
    "kernelspec": {
      "name": "python3",
      "display_name": "Python 3"
    },
    "language_info": {
      "name": "python"
    }
  },
  "cells": [
    {
      "cell_type": "markdown",
      "metadata": {
        "id": "view-in-github",
        "colab_type": "text"
      },
      "source": [
        "<a href=\"https://colab.research.google.com/github/Crackvenger/MySkillDataSceincePythonExercise/blob/main/(Exercise_3)_Python_Exercise_1.ipynb\" target=\"_parent\"><img src=\"https://colab.research.google.com/assets/colab-badge.svg\" alt=\"Open In Colab\"/></a>"
      ]
    },
    {
      "cell_type": "markdown",
      "source": [
        "#Question 1"
      ],
      "metadata": {
        "id": "lza3m1sXHENy"
      }
    },
    {
      "cell_type": "code",
      "execution_count": null,
      "metadata": {
        "id": "sQH3eJ59FALJ"
      },
      "outputs": [],
      "source": [
        "# Buatlah code dari tipe integer menjadi variable, lalu print .\n",
        "# contoh : age = 10 \n",
        "# Type your code here"
      ]
    },
    {
      "cell_type": "markdown",
      "source": [
        "#Question 2"
      ],
      "metadata": {
        "id": "hlvbUgBWIC-v"
      }
    },
    {
      "cell_type": "code",
      "source": [
        "#Konversikan tipe data variabel tersebut menjadi string\n",
        "#Type your code here"
      ],
      "metadata": {
        "id": "0V3L3aEvIXTw"
      },
      "execution_count": null,
      "outputs": []
    },
    {
      "cell_type": "markdown",
      "source": [
        "#Question 3\n",
        "\n"
      ],
      "metadata": {
        "id": "SnWeUcT0IRrp"
      }
    },
    {
      "cell_type": "code",
      "source": [
        "#Konversikan tipe data variabel tersebut menjadi float\n",
        "#Type your code here"
      ],
      "metadata": {
        "id": "2Dp8-7vbIQNr"
      },
      "execution_count": null,
      "outputs": []
    },
    {
      "cell_type": "markdown",
      "source": [
        "#Question 4"
      ],
      "metadata": {
        "id": "x6xz6ZGLI7rB"
      }
    },
    {
      "cell_type": "code",
      "source": [
        "#Buatlah pemrograman Python untuk menampilkan warna pertama dan terakhir dari tipe data list di bawah\n",
        "color_list = [\"Red\",\"Green\",\"White\" ,\"Black\"]\n",
        "# Type your code here"
      ],
      "metadata": {
        "id": "6s3R95SUI-B1"
      },
      "execution_count": null,
      "outputs": []
    },
    {
      "cell_type": "markdown",
      "source": [
        "#Question 5"
      ],
      "metadata": {
        "id": "otyvDo5jJSdR"
      }
    },
    {
      "cell_type": "code",
      "source": [
        "# Cetak secara reverse list yang tersedia\n",
        "# Contoh:\n",
        "# Input : list = [10, 11, 12, 13, 14, 15]\n",
        "# Output : [15, 14, 13, 12, 11, 10]\n",
        " \n",
        "# membuat list\n",
        "lst = [11, 5, 17, 18, 23, 50]\n",
        "# Type your code here"
      ],
      "metadata": {
        "id": "5VCpl22CJUyF"
      },
      "execution_count": null,
      "outputs": []
    },
    {
      "cell_type": "markdown",
      "source": [
        "#Question 6"
      ],
      "metadata": {
        "id": "N5L_tujnLKTa"
      }
    },
    {
      "cell_type": "code",
      "source": [
        "# hilangkan elements dari index 1 sampai 4\n",
        "lst = [11, 5, 17, 18, 23, 50]\n",
        "# Type your code here"
      ],
      "metadata": {
        "id": "osvY5JckLMRS"
      },
      "execution_count": null,
      "outputs": []
    },
    {
      "cell_type": "markdown",
      "source": [
        "#Question 7"
      ],
      "metadata": {
        "id": "x96AT9A6LWRT"
      }
    },
    {
      "cell_type": "code",
      "source": [
        "# Tuliskan Python program untuk menggabungkan dua dictrionary adding values untuk common keys.\n",
        "# d1 = {'a': 100, 'b': 200, 'c':300}\n",
        "# d2 = {'a': 300, 'b': 200, 'd':400}\n",
        "# Sample output: Counter({'a': 400, 'b': 400, 'd': 400, 'c': 300})\n",
        "\n",
        "d1 = {'a': 100, 'b': 200, 'c':300}\n",
        "d2 = {'a': 300, 'b': 200, 'd':400}\n"
      ],
      "metadata": {
        "id": "bxRtfvSzLZI3"
      },
      "execution_count": null,
      "outputs": []
    },
    {
      "cell_type": "markdown",
      "source": [
        "#Queston 8"
      ],
      "metadata": {
        "id": "oYlOgk75Ly6M"
      }
    },
    {
      "cell_type": "code",
      "source": [
        "# Tuliskan Python program untuk menggabungkan dua dictionary Python\n",
        "d1 = {'a': 100, 'b': 200}\n",
        "d2 = {'x': 300, 'y': 200}\n",
        "\n",
        "# Type your code here"
      ],
      "metadata": {
        "id": "sUkdcyEaL1mo"
      },
      "execution_count": null,
      "outputs": []
    },
    {
      "cell_type": "markdown",
      "source": [
        "# Question 9"
      ],
      "metadata": {
        "id": "oAz7JUeBMATf"
      }
    },
    {
      "cell_type": "code",
      "source": [
        "# Kembalikan item yang sama dari kedua set\n",
        "set1 = {10, 20, 30, 40, 50}\n",
        "set2 = {30, 40, 50, 60, 70}\n",
        "# expected output : {40, 50, 30}\n",
        "# Type your code here"
      ],
      "metadata": {
        "id": "a9B5ao3rMCqO"
      },
      "execution_count": null,
      "outputs": []
    },
    {
      "cell_type": "markdown",
      "source": [
        "#QUestion 10"
      ],
      "metadata": {
        "id": "abgerkXDMV4v"
      }
    },
    {
      "cell_type": "markdown",
      "source": [
        "tuple vs list: https://towardsdatascience.com/python-tuples-when-to-use-them-over-lists-75e443f9dcd7"
      ],
      "metadata": {
        "id": "ODF3xx6y7Lg7"
      }
    },
    {
      "cell_type": "code",
      "source": [
        "# Reverse tipe data tupel di bawah\n",
        "tuple1 = (10, 20, 30, 40, 50)\n",
        "\n",
        "# expected output : (50, 40, 30, 20, 10)\n",
        "# Type your code here"
      ],
      "metadata": {
        "id": "TkYnCrz3MXoJ"
      },
      "execution_count": null,
      "outputs": []
    }
  ]
}